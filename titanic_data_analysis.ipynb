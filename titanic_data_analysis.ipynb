{
 "cells": [
  {
   "cell_type": "markdown",
   "metadata": {},
   "source": [
    "\n",
    "## Titanic Dataset Problem"
   ]
  },
  {
   "cell_type": "markdown",
   "metadata": {},
   "source": [
    "### Imports"
   ]
  },
  {
   "cell_type": "code",
   "execution_count": null,
   "metadata": {},
   "outputs": [],
   "source": [
    "import numpy as np\n",
    "import pandas as pd\n",
    "import matplotlib.pyplot as plt\n",
    "\n",
    "import seaborn as sns\n",
    "import re"
   ]
  },
  {
   "cell_type": "markdown",
   "metadata": {},
   "source": [
    "## Dataset"
   ]
  },
  {
   "cell_type": "code",
   "execution_count": null,
   "metadata": {},
   "outputs": [],
   "source": [
    "test_data_path = \"data/test.csv\"\n",
    "train_data_path = \"data/train.csv\"\n",
    "submission_data_path = \"data/gender_submission.csv\""
   ]
  },
  {
   "cell_type": "code",
   "execution_count": null,
   "metadata": {},
   "outputs": [],
   "source": [
    "df_train = pd.read_csv(train_data_path)\n",
    "df_train.head()"
   ]
  },
  {
   "cell_type": "markdown",
   "metadata": {},
   "source": [
    "### Dataset Stats"
   ]
  },
  {
   "cell_type": "code",
   "execution_count": null,
   "metadata": {},
   "outputs": [],
   "source": [
    "df_train.info()"
   ]
  },
  {
   "cell_type": "code",
   "execution_count": null,
   "metadata": {},
   "outputs": [],
   "source": [
    "df_train.describe()"
   ]
  },
  {
   "cell_type": "code",
   "execution_count": null,
   "metadata": {},
   "outputs": [],
   "source": [
    "df_train.describe(include='object')"
   ]
  },
  {
   "cell_type": "code",
   "execution_count": null,
   "metadata": {},
   "outputs": [],
   "source": [
    "m = df_train.shape[0]\n",
    "print(m)\n",
    "df_train.notna().sum()"
   ]
  },
  {
   "cell_type": "code",
   "execution_count": null,
   "metadata": {},
   "outputs": [],
   "source": [
    "df_train.nunique()"
   ]
  },
  {
   "cell_type": "code",
   "execution_count": null,
   "metadata": {},
   "outputs": [],
   "source": [
    "age_bins = np.arange(0, 81, 10)\n",
    "# age_bins = [0, 5, 12, 17, 22, 35, 45, 60, 80]\n",
    "df_train[\"Age_Range\"] = pd.cut(df_train.Age, bins=age_bins, include_lowest=1)\n",
    "\n",
    "df_train.Age_Range.unique()"
   ]
  },
  {
   "cell_type": "markdown",
   "metadata": {},
   "source": [
    "### Dataset Visualization"
   ]
  },
  {
   "cell_type": "code",
   "execution_count": null,
   "metadata": {},
   "outputs": [],
   "source": [
    "# Setting up visualisations\n",
    "sns.set_style(style='white') \n",
    "sns.set(rc={\n",
    "    'figure.figsize':(10,6), \n",
    "    'axes.facecolor': '#eee',\n",
    "    'axes.grid': True,\n",
    "    'grid.color': '.9',\n",
    "    'axes.linewidth': 1.0,\n",
    "    'grid.linestyle': u'-'},font_scale=1)\n",
    "custom_colors = [\"#3498db\", \"#95a5a6\",\"#34495e\", \"#2ecc71\", \"#e74c3c\"]\n",
    "sns.set_palette(custom_colors)"
   ]
  },
  {
   "cell_type": "code",
   "execution_count": null,
   "metadata": {},
   "outputs": [],
   "source": [
    "missing_val_heatmap = sns.heatmap(df_train.notna(), cbar=False, cmap=\"Blues\")\n",
    "missing_val_heatmap.set_title(\"Missing Val Heatmap\")\n"
   ]
  },
  {
   "cell_type": "code",
   "execution_count": null,
   "metadata": {},
   "outputs": [],
   "source": [
    "survival_ratio = df_train.Survived.value_counts(normalize=True)\n",
    "survival_ratio.plot.barh(color=[\"black\", \"lightblue\"])\n",
    "\n",
    "\n",
    "plt.title(\"Training Data - Ratio of Survival and Death\")"
   ]
  },
  {
   "cell_type": "code",
   "execution_count": null,
   "metadata": {},
   "outputs": [],
   "source": [
    "pclass_dist = df_train.Pclass.value_counts()\n",
    "pclass_vals = np.sort(pclass_dist.index)\n",
    "pclass_ratio = pclass_dist / m\n",
    "pclass_ratio.plot.pie(autopct=\"%1.0f%%\")\n",
    "\n",
    "plt.legend(labels=\"Class \" +  pclass_ratio.index.astype(str))\n",
    "plt.title(\"Training Data - People Traveling in different Classes\")"
   ]
  },
  {
   "cell_type": "code",
   "execution_count": null,
   "metadata": {},
   "outputs": [],
   "source": [
    "pclass_survival_dist = df_train[df_train.Survived==1].Pclass.value_counts()\n",
    "pclass_death_dist = pclass_dist - pclass_survival_dist \n",
    "\n",
    "pclass_survival_ratio = pclass_survival_dist / pclass_dist\n",
    "pclass_death_ratio = 1 - pclass_survival_ratio \n",
    "\n",
    "pclass_survival_ratio.name = \"Survival Ratio\"\n",
    "pclass_death_ratio.name = \"Death Ratio\"\n",
    "\n",
    "pclass_death_ratio_df = pd.concat(\n",
    "    (pclass_survival_ratio, pclass_death_ratio), \n",
    "    axis=1\n",
    "    )\n",
    "pclass_death_ratio_df.plot.bar()\n",
    "\n",
    "plt.title(\"'Training Data - Ratio of people survived as per class'\")"
   ]
  },
  {
   "cell_type": "code",
   "execution_count": null,
   "metadata": {},
   "outputs": [],
   "source": [
    "for pclass_val in pclass_vals:\n",
    "    df_train.Age[df_train.Pclass == pclass_val].plot.density()\n",
    "\n",
    "plt.title(\"Age Density in Classes\")\n",
    "plt.legend(pclass_vals)\n",
    "\n",
    "plt.show()"
   ]
  },
  {
   "cell_type": "code",
   "execution_count": null,
   "metadata": {},
   "outputs": [],
   "source": [
    "sex_dist = df_train.Sex.value_counts()\n",
    "sex_survival_dist = df_train[df_train.Survived==1].Sex.value_counts()\n",
    "sex_death_dist = sex_dist - sex_survival_dist\n",
    "\n",
    "sex_survival_status_dist = pd.DataFrame([sex_survival_dist / sex_dist, sex_death_dist / sex_dist], index=[1, 0])\n",
    "sex_survival_status_dist"
   ]
  },
  {
   "cell_type": "code",
   "execution_count": null,
   "metadata": {},
   "outputs": [],
   "source": [
    "sex_survival_status_dist.T.plot.barh()\n",
    "plt.legend(labels = [\"Survived\", \"Dead\"])\n",
    "\n",
    "plt.show()"
   ]
  },
  {
   "cell_type": "code",
   "execution_count": null,
   "metadata": {},
   "outputs": [],
   "source": [
    "# td['Fare_Category'] = pd.cut(td['Fare'], bins=[0,7.90,14.45,31.28,120], labels=['Low','Mid',\n",
    "# sns.countplot(x = \"Age_Range\", hue = \"Survived\", data = td, palette=[\"C1\", \"C0\"]).legend(labels = [\"Deceased\", \"Survived\"])"
   ]
  },
  {
   "cell_type": "code",
   "execution_count": null,
   "metadata": {},
   "outputs": [],
   "source": [
    "sns.countplot(x=\"Age_Range\", data=df_train, hue=\"Survived\", palette=[\"C1\", \"C0\"])\n",
    "plt.title(\"\")\n",
    "plt.legend(labels=[\"Deceased\", \"Survived\"])\n"
   ]
  },
  {
   "cell_type": "code",
   "execution_count": null,
   "metadata": {},
   "outputs": [],
   "source": [
    "age_range_dist = df_train.Age_Range.value_counts().sort_index()\n",
    "\n",
    "age_range_survival_dist = df_train[df_train.Survived==1].Age_Range.value_counts().sort_index()\n",
    "age_range_death_dist = age_range_dist - age_range_survival_dist\n",
    "\n",
    "age_range_survival_ratio = age_range_survival_dist / age_range_dist\n",
    "age_range_death_ratio = 1 - age_range_survival_ratio\n",
    "\n",
    "age_range_survival_status_df = pd.DataFrame([age_range_survival_ratio, age_range_death_ratio], index=[\"Survived\", \"Deasesed\"]).T\n",
    "\n",
    "age_range_survival_status_df.plot.bar()\n"
   ]
  },
  {
   "cell_type": "code",
   "execution_count": null,
   "metadata": {},
   "outputs": [],
   "source": [
    "pclass_survival_dist = df_train[df_train.Survived==1].Pclass.value_counts()\n",
    "pclass_death_dist = pclass_dist - pclass_survival_dist \n",
    "\n",
    "pclass_survival_ratio = pclass_survival_dist / pclass_dist\n",
    "pclass_death_ratio = 1 - pclass_survival_ratio \n",
    "\n",
    "pclass_survival_ratio.name = \"Survival Ratio\"\n",
    "pclass_death_ratio.name = \"Death Ratio\"\n",
    "\n",
    "pclass_death_ratio_df = pd.concat(\n",
    "    (pclass_survival_ratio, pclass_death_ratio), \n",
    "    axis=1\n",
    "    )\n",
    "pclass_death_ratio_df.plot.bar()\n",
    "\n",
    "plt.title(\"'Training Data - Ratio of people survived as per class'\")"
   ]
  },
  {
   "cell_type": "code",
   "execution_count": null,
   "metadata": {},
   "outputs": [],
   "source": [
    "a = sns.distplot(df_train.Age, bins=30)"
   ]
  },
  {
   "cell_type": "code",
   "execution_count": null,
   "metadata": {},
   "outputs": [],
   "source": [
    "df_train.columns"
   ]
  },
  {
   "cell_type": "code",
   "execution_count": null,
   "metadata": {},
   "outputs": [],
   "source": [
    "# fms = df_train[[\"Survived\", \"SibSp\", \"Parch\"]]\n",
    "fms = df_train.loc[:, [\"Survived\", \"SibSp\", \"Parch\"]]\n",
    "fms[\"Fam\"] = fms.SibSp + fms.Parch\n",
    "\n",
    "fms.head()"
   ]
  },
  {
   "cell_type": "code",
   "execution_count": null,
   "metadata": {},
   "outputs": [],
   "source": [
    "sns.countplot(x=\"SibSp\", data=df_train, hue=\"Survived\", palette=[\"C1\", \"C0\"])"
   ]
  },
  {
   "cell_type": "code",
   "execution_count": null,
   "metadata": {},
   "outputs": [],
   "source": [
    "sns.countplot(x=\"Parch\", data=df_train, hue=\"Survived\", palette=[\"C1\", \"C0\"])"
   ]
  },
  {
   "cell_type": "code",
   "execution_count": null,
   "metadata": {},
   "outputs": [],
   "source": [
    "sns.countplot(x=\"Fam\", data=fms, hue=\"Survived\", palette=[\"C1\", \"C0\"])"
   ]
  },
  {
   "cell_type": "code",
   "execution_count": null,
   "metadata": {},
   "outputs": [],
   "source": [
    "fms.Fam.value_counts()"
   ]
  },
  {
   "cell_type": "code",
   "execution_count": null,
   "metadata": {},
   "outputs": [],
   "source": [
    "fam_dist = fms.Fam.value_counts().sort_index()\n",
    "\n",
    "fam_survival_dist = fms[fms.Survived==1].Fam.value_counts().sort_index()\n",
    "fam_death_dist = (fam_dist - fam_survival_dist).fillna(0)\n",
    "\n",
    "fam_survival_ratio = (fam_survival_dist / fam_dist).fillna(0)\n",
    "fam_death_ratio = 1 - fam_survival_ratio\n",
    "\n",
    "fam_survival_status_df = pd.DataFrame([fam_survival_ratio, fam_death_ratio], index=[1, 0]).T\n",
    "\n",
    "fam_survival_status_df"
   ]
  },
  {
   "cell_type": "code",
   "execution_count": null,
   "metadata": {},
   "outputs": [],
   "source": [
    "pd.concat([fam_survival_ratio, fam_death_ratio], axis=1)"
   ]
  },
  {
   "cell_type": "code",
   "execution_count": null,
   "metadata": {},
   "outputs": [],
   "source": [
    "emb_plt = sns.countplot(x=\"Embarked\", data=df_train, hue=\"Survived\", palette=[\"C1\", \"C0\"])\n",
    "emb_plt.set_xticklabels([\"SA\", \"CE\", \"QT\"])"
   ]
  },
  {
   "cell_type": "code",
   "execution_count": null,
   "metadata": {},
   "outputs": [],
   "source": [
    "df_train[df_train.Embarked.isna()]"
   ]
  },
  {
   "cell_type": "code",
   "execution_count": null,
   "metadata": {},
   "outputs": [],
   "source": [
    "df_train[(df_train.Pclass==1) & (df_train.Sex==\"female\")].Embarked.value_counts()"
   ]
  },
  {
   "cell_type": "code",
   "execution_count": null,
   "metadata": {},
   "outputs": [],
   "source": [
    "df_train.Embarked.mode()[0]"
   ]
  },
  {
   "cell_type": "code",
   "execution_count": null,
   "metadata": {},
   "outputs": [],
   "source": [
    "df_train.Embarked = df_train.Embarked.fillna(df_train.Embarked.mode()[0])\n",
    "df_train[df_train.Embarked.isna()]"
   ]
  },
  {
   "cell_type": "code",
   "execution_count": null,
   "metadata": {},
   "outputs": [],
   "source": []
  },
  {
   "cell_type": "code",
   "execution_count": null,
   "metadata": {},
   "outputs": [],
   "source": [
    "df_train[\"Title\"] = df_train.Name.apply(lambda name : name.split(\",\")[1].split(\".\")[0].strip())\n",
    "print(df_train[\"Title\"].unique())\n",
    "\n",
    "df_train[df_train.Sex==\"female\"].Title.value_counts()"
   ]
  },
  {
   "cell_type": "code",
   "execution_count": null,
   "metadata": {},
   "outputs": [],
   "source": [
    "df_train[\"Title\"].nunique()"
   ]
  },
  {
   "cell_type": "code",
   "execution_count": null,
   "metadata": {},
   "outputs": [],
   "source": [
    "grp = df_train.groupby([\"Sex\", \"Pclass\"])\n",
    "grp1 = df_train.groupby([\"Sex\", \"Pclass\", \"Title\"])\n",
    "\n",
    "grp.Age.apply(lambda x: x.fillna(x.median()))"
   ]
  },
  {
   "cell_type": "code",
   "execution_count": null,
   "metadata": {},
   "outputs": [],
   "source": [
    "grp.Age.apply(lambda x: x.fillna(x.median()))[df_train.Age.isna()].sort_values().reset_index().Age.plot()"
   ]
  },
  {
   "cell_type": "code",
   "execution_count": null,
   "metadata": {},
   "outputs": [],
   "source": [
    "grp1.Age.apply(lambda x: x.fillna(x.median()))[df_train.Age.isna()].sort_values().reset_index().Age.plot()"
   ]
  },
  {
   "cell_type": "code",
   "execution_count": null,
   "metadata": {},
   "outputs": [],
   "source": [
    "sns.kdeplot(data=df_train, x=\"Age\", hue=\"Survived\", palette=[\"C1\", \"C0\"])"
   ]
  },
  {
   "cell_type": "code",
   "execution_count": null,
   "metadata": {},
   "outputs": [],
   "source": [
    "sns.catplot(x = 'SibSp', y = 'Survived', data = df_train, kind = 'bar', palette='mako')\n"
   ]
  },
  {
   "cell_type": "code",
   "execution_count": null,
   "metadata": {},
   "outputs": [],
   "source": [
    "df_train.columns"
   ]
  },
  {
   "cell_type": "code",
   "execution_count": null,
   "metadata": {},
   "outputs": [],
   "source": [
    "age     = df_train.Age\n",
    "fare    = df_train.Fare\n",
    "survive = df_train.Survived\n",
    "pclass  = df_train.Pclass\n",
    "embarked  = df_train.Embarked\n",
    "sex = df_train.Sex\n"
   ]
  },
  {
   "cell_type": "code",
   "execution_count": null,
   "metadata": {},
   "outputs": [],
   "source": [
    "sns.distplot(x=df_train.Age, bins=40)"
   ]
  },
  {
   "cell_type": "code",
   "execution_count": null,
   "metadata": {},
   "outputs": [],
   "source": [
    "sns.jointplot(x=age, y=fare)"
   ]
  },
  {
   "cell_type": "code",
   "execution_count": null,
   "metadata": {},
   "outputs": [],
   "source": [
    "sns.jointplot(x=age, y=fare, kind=\"hex\")"
   ]
  },
  {
   "cell_type": "code",
   "execution_count": null,
   "metadata": {},
   "outputs": [],
   "source": []
  },
  {
   "cell_type": "code",
   "execution_count": null,
   "metadata": {},
   "outputs": [],
   "source": [
    "d = pd.read_csv(train_data_path)[[\"Survived\", \"Pclass\", \"Sex\", \"Age\", \"SibSp\", \"Parch\", \"Fare\", \"Embarked\"]]"
   ]
  },
  {
   "cell_type": "code",
   "execution_count": null,
   "metadata": {},
   "outputs": [],
   "source": [
    "sns.pairplot(d)\n"
   ]
  },
  {
   "cell_type": "code",
   "execution_count": null,
   "metadata": {},
   "outputs": [],
   "source": [
    "sns.barplot(x=\"Pclass\", data=d, y=pclass)"
   ]
  },
  {
   "cell_type": "code",
   "execution_count": null,
   "metadata": {},
   "outputs": [],
   "source": [
    "sns.countplot(d['Pclass'])"
   ]
  },
  {
   "cell_type": "code",
   "execution_count": null,
   "metadata": {},
   "outputs": [],
   "source": [
    "sns.swarmplot(y = d['Age'], x = d['Pclass'])\n"
   ]
  },
  {
   "cell_type": "code",
   "execution_count": null,
   "metadata": {},
   "outputs": [],
   "source": [
    "sns.heatmap(d.corr(), annot = True, cmap = 'viridis')\n"
   ]
  },
  {
   "cell_type": "code",
   "execution_count": null,
   "metadata": {},
   "outputs": [],
   "source": [
    "sns.clustermap(d.corr(), annot=True,cmap='viridis', figsize=(6,6))\n"
   ]
  },
  {
   "cell_type": "code",
   "execution_count": null,
   "metadata": {},
   "outputs": [],
   "source": [
    "mask = np.triu(np.ones_like(df_train.corr(method = \"pearson\"), dtype=np.bool))\n"
   ]
  },
  {
   "cell_type": "code",
   "execution_count": null,
   "metadata": {},
   "outputs": [],
   "source": [
    "sns.FacetGrid(df_train, col = 'Pclass', row = 'Survived').map(sns.distplot, 'Age')\n"
   ]
  },
  {
   "cell_type": "code",
   "execution_count": null,
   "metadata": {},
   "outputs": [],
   "source": [
    "sns.lmplot(x = 'Age', y = 'Fare', data = d, hue = 'Survived', palette=[\"pink\", \"lightblue\"])\n",
    "\n"
   ]
  },
  {
   "cell_type": "code",
   "execution_count": null,
   "metadata": {},
   "outputs": [],
   "source": [
    "train_with_age = df_train[ ~np.isnan(df_train[\"Age\"]) ]\n",
    "survivalpc_by_age = train_with_age.groupby([\"Sex\",\"Age\"], as_index = False)[\"Survived\"].mean()\n",
    "\n",
    "\n",
    "for gender in [\"male\", \"female\"]:\n",
    "    plt.figure()\n",
    "    sns.lmplot(data=survivalpc_by_age[survivalpc_by_age[\"Sex\"]==gender], x=\"Age\", y=\"Survived\", order=4)\n",
    "    plt.title(\"%s survival by age\" % gender)\n",
    "    plt.xlim(0, 80)\n",
    "    plt.ylim(0, 1)"
   ]
  },
  {
   "cell_type": "code",
   "execution_count": null,
   "metadata": {},
   "outputs": [],
   "source": [
    "1"
   ]
  },
  {
   "cell_type": "code",
   "execution_count": null,
   "metadata": {},
   "outputs": [],
   "source": [
    "p = .73\n",
    "r = .77"
   ]
  },
  {
   "cell_type": "code",
   "execution_count": null,
   "metadata": {},
   "outputs": [],
   "source": [
    "2 * (r * p) / (\n",
    "     r + p \n",
    ")"
   ]
  },
  {
   "cell_type": "code",
   "execution_count": null,
   "metadata": {},
   "outputs": [],
   "source": [
    "m = 1           # False Pos\n",
    "n = 5           # False Neg\n",
    "s = m+n\n",
    "\n",
    "(1) * 2 * ((m/s)*p * (n/s)*r) / (\n",
    "         (m/s)*p + (n/s)*r \n",
    ")"
   ]
  },
  {
   "cell_type": "code",
   "execution_count": null,
   "metadata": {},
   "outputs": [],
   "source": [
    "m = 1           # False Pos\n",
    "n = 1           # False Neg\n",
    "s = m+n\n",
    "\n",
    "(p * m + r * n) / s"
   ]
  },
  {
   "cell_type": "code",
   "execution_count": null,
   "metadata": {},
   "outputs": [],
   "source": [
    "def score(p, r, m = 1, n = 1):\n",
    "    \n",
    "    return (p * m + r * n) / (m + n)\n",
    "m = 6\n",
    "n = 1\n",
    "\n",
    "score(.75, .75, m, n), score(.73, .75, m, n), score(.73, .77, m, n), score(.75, .70, m, n), score(.74, .72, m, n), score(.73, .71, m, n)"
   ]
  },
  {
   "cell_type": "code",
   "execution_count": null,
   "metadata": {},
   "outputs": [],
   "source": [
    "1, 4, 3, 5, 2, 6"
   ]
  },
  {
   "cell_type": "code",
   "execution_count": null,
   "metadata": {},
   "outputs": [],
   "source": [
    "score(.75, .75, 4, 1), score(.73, .75, 4, 1), score(.73, .77, 4, 1), score(.75, .70, 4, 1), score(.74, .72, 4, 1), score(.73, .71, 4, 1)\n"
   ]
  },
  {
   "cell_type": "code",
   "execution_count": null,
   "metadata": {},
   "outputs": [],
   "source": [
    "df_train[df_train.Age.isna()].Title.value_counts()"
   ]
  },
  {
   "cell_type": "code",
   "execution_count": null,
   "metadata": {},
   "outputs": [],
   "source": [
    "df_train[df_train.Title==\"Dr\"]"
   ]
  },
  {
   "cell_type": "code",
   "execution_count": null,
   "metadata": {},
   "outputs": [],
   "source": [
    "df_train.Title.value_counts()"
   ]
  },
  {
   "cell_type": "code",
   "execution_count": null,
   "metadata": {},
   "outputs": [],
   "source": []
  },
  {
   "cell_type": "code",
   "execution_count": null,
   "metadata": {},
   "outputs": [],
   "source": []
  }
 ],
 "metadata": {
  "interpreter": {
   "hash": "c6e4e9f98eb68ad3b7c296f83d20e6de614cb42e90992a65aa266555a3137d0d"
  },
  "kernelspec": {
   "display_name": "Python 3.9.10 ('base')",
   "language": "python",
   "name": "python3"
  },
  "language_info": {
   "codemirror_mode": {
    "name": "ipython",
    "version": 3
   },
   "file_extension": ".py",
   "mimetype": "text/x-python",
   "name": "python",
   "nbconvert_exporter": "python",
   "pygments_lexer": "ipython3",
   "version": "3.9.10"
  },
  "orig_nbformat": 4
 },
 "nbformat": 4,
 "nbformat_minor": 2
}
